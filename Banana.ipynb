{
 "cells": [
  {
   "cell_type": "code",
   "execution_count": 2,
   "metadata": {},
   "outputs": [
    {
     "name": "stdout",
     "output_type": "stream",
     "text": [
      "Vowel words\n",
      " {'A': 3, 'AN': 2, 'ANA': 2, 'ANAN': 1, 'ANANA': 1}\n",
      "Consonants words\n",
      " {'B': 1, 'BA': 1, 'BAN': 1, 'BANA': 1, 'BANAN': 1, 'BANANA': 1, 'N': 2, 'NA': 2, 'NAN': 1, 'NANA': 1}\n"
     ]
    }
   ],
   "source": [
    "from pprint import pprint\n",
    "s = 'banana'\n",
    "v = 'aeiou'\n",
    "s = s.upper()\n",
    "v = v.upper()\n",
    "v_words = {}\n",
    "c_words = {}\n",
    "\n",
    "for i in range(len(s)):\n",
    "    if s[i] in v:\n",
    "        for j in range(len(s)-i):\n",
    "            v_unique = s[i:i+j+1]\n",
    "            if v_unique in v_words:\n",
    "                v_words[v_unique] += 1\n",
    "            else:\n",
    "                v_words[v_unique] = 1\n",
    "    else:\n",
    "        for j in range(len(s)-i):\n",
    "            c_unique = s[i:i+j+1]\n",
    "            if c_unique in c_words:\n",
    "                c_words[c_unique] += 1\n",
    "            else:\n",
    "                c_words[c_unique] = 1           \n",
    "\n",
    "print('Vowel words\\n', v_words)\n",
    "\n",
    "print('Consonants words\\n', c_words)"
   ]
  },
  {
   "cell_type": "markdown",
   "metadata": {},
   "source": [
    "## The Minion Game"
   ]
  },
  {
   "cell_type": "code",
   "execution_count": 3,
   "metadata": {},
   "outputs": [],
   "source": [
    "def minion_game(string):\n",
    "    kev = 0\n",
    "    stu = 0\n",
    "    vowels = 'AEIOU'\n",
    "    \n",
    "    for i in range(len(string)):\n",
    "        if string[i] in vowels:\n",
    "            kev += (len(string)-i)\n",
    "        else:\n",
    "            stu += (len(string)-i)\n",
    "    \n",
    "    return kev, stu\n",
    "\n",
    "#     if kev > stu:\n",
    "#         print(\"Kevin\", kev)\n",
    "#     elif kev < stu: \n",
    "#         print(\"Stuart\", stu)\n",
    "#     else :\n",
    "#         print(\"Draw\")"
   ]
  },
  {
   "cell_type": "code",
   "execution_count": 5,
   "metadata": {},
   "outputs": [
    {
     "data": {
      "text/plain": [
       "(9, 12)"
      ]
     },
     "execution_count": 5,
     "metadata": {},
     "output_type": "execute_result"
    }
   ],
   "source": [
    "#kevin 0, 5, 0, 3, 0, 1 = 9\n",
    "#stuart 6, 0, 4, 0, 2, 0 = 12 \n",
    "\n",
    "\n",
    "minion_game('BANANA')"
   ]
  },
  {
   "cell_type": "code",
   "execution_count": null,
   "metadata": {},
   "outputs": [],
   "source": []
  },
  {
   "cell_type": "code",
   "execution_count": null,
   "metadata": {},
   "outputs": [],
   "source": []
  },
  {
   "cell_type": "code",
   "execution_count": null,
   "metadata": {},
   "outputs": [],
   "source": []
  },
  {
   "cell_type": "code",
   "execution_count": null,
   "metadata": {},
   "outputs": [],
   "source": []
  },
  {
   "cell_type": "code",
   "execution_count": null,
   "metadata": {},
   "outputs": [],
   "source": []
  },
  {
   "cell_type": "code",
   "execution_count": null,
   "metadata": {},
   "outputs": [],
   "source": []
  },
  {
   "cell_type": "code",
   "execution_count": null,
   "metadata": {},
   "outputs": [],
   "source": []
  },
  {
   "cell_type": "code",
   "execution_count": null,
   "metadata": {},
   "outputs": [],
   "source": []
  }
 ],
 "metadata": {
  "kernelspec": {
   "display_name": "Python 3",
   "language": "python",
   "name": "python3"
  },
  "language_info": {
   "codemirror_mode": {
    "name": "ipython",
    "version": 3
   },
   "file_extension": ".py",
   "mimetype": "text/x-python",
   "name": "python",
   "nbconvert_exporter": "python",
   "pygments_lexer": "ipython3",
   "version": "3.6.8"
  }
 },
 "nbformat": 4,
 "nbformat_minor": 2
}
