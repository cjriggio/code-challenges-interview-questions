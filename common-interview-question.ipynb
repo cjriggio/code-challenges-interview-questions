{
 "cells": [
  {
   "cell_type": "code",
   "execution_count": 1,
   "metadata": {},
   "outputs": [],
   "source": [
    "from pprint import pprint"
   ]
  },
  {
   "cell_type": "code",
   "execution_count": 2,
   "metadata": {},
   "outputs": [
    {
     "name": "stdout",
     "output_type": "stream",
     "text": [
      "{' ': 5,\n",
      " 'T': 1,\n",
      " 'a': 1,\n",
      " 'c': 1,\n",
      " 'e': 3,\n",
      " 'h': 1,\n",
      " 'i': 5,\n",
      " 'm': 2,\n",
      " 'n': 3,\n",
      " 'o': 3,\n",
      " 'q': 1,\n",
      " 'r': 1,\n",
      " 's': 3,\n",
      " 't': 2,\n",
      " 'u': 1,\n",
      " 'v': 1,\n",
      " 'w': 1}\n"
     ]
    }
   ],
   "source": [
    "#What is the most repeated character?\n",
    "sentence = \"This is a common interview question\"\n",
    "\n",
    "char_frequency = {}\n",
    "for char in sentence:\n",
    "    if char in char_frequency:\n",
    "        char_frequency[char] += 1\n",
    "    else:\n",
    "        char_frequency[char] = 1\n",
    "\n",
    "pprint(char_frequency, width=1)"
   ]
  },
  {
   "cell_type": "code",
   "execution_count": 3,
   "metadata": {},
   "outputs": [
    {
     "data": {
      "text/plain": [
       "[('i', 5),\n",
       " (' ', 5),\n",
       " ('s', 3),\n",
       " ('o', 3),\n",
       " ('n', 3),\n",
       " ('e', 3),\n",
       " ('m', 2),\n",
       " ('t', 2),\n",
       " ('T', 1),\n",
       " ('h', 1),\n",
       " ('a', 1),\n",
       " ('c', 1),\n",
       " ('r', 1),\n",
       " ('v', 1),\n",
       " ('w', 1),\n",
       " ('q', 1),\n",
       " ('u', 1)]"
      ]
     },
     "execution_count": 3,
     "metadata": {},
     "output_type": "execute_result"
    }
   ],
   "source": [
    "char_sorted = sorted(char_frequency.items(), key=lambda kv: kv[1], reverse=True)\n",
    "char_sorted"
   ]
  },
  {
   "cell_type": "code",
   "execution_count": 4,
   "metadata": {},
   "outputs": [
    {
     "data": {
      "text/plain": [
       "('i', 5)"
      ]
     },
     "execution_count": 4,
     "metadata": {},
     "output_type": "execute_result"
    }
   ],
   "source": [
    "char_sorted[0]"
   ]
  },
  {
   "cell_type": "code",
   "execution_count": null,
   "metadata": {},
   "outputs": [],
   "source": []
  }
 ],
 "metadata": {
  "kernelspec": {
   "display_name": "Python 3",
   "language": "python",
   "name": "python3"
  },
  "language_info": {
   "codemirror_mode": {
    "name": "ipython",
    "version": 3
   },
   "file_extension": ".py",
   "mimetype": "text/x-python",
   "name": "python",
   "nbconvert_exporter": "python",
   "pygments_lexer": "ipython3",
   "version": "3.6.8"
  }
 },
 "nbformat": 4,
 "nbformat_minor": 2
}
